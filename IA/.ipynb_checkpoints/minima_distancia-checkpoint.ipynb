{
 "cells": [
  {
   "cell_type": "code",
   "execution_count": 119,
   "metadata": {},
   "outputs": [],
   "source": [
    "import matplotlib.pyplot as plt\n",
    "import numpy as np\n",
    "import pandas as pd\n",
    "import math"
   ]
  },
  {
   "cell_type": "code",
   "execution_count": 120,
   "metadata": {},
   "outputs": [],
   "source": [
    "iris = pd.read_csv('/home/fernando/Documents/ai/iris.data', header=None)"
   ]
  },
  {
   "cell_type": "code",
   "execution_count": 121,
   "metadata": {},
   "outputs": [],
   "source": [
    "setosa = iris[iris[4].isin(['Iris-setosa'])]\n",
    "versicolor = iris[iris[4].isin(['Iris-versicolor'])]\n",
    "virginia = iris[iris[4].isin(['Iris-virginica'])]"
   ]
  },
  {
   "cell_type": "code",
   "execution_count": 122,
   "metadata": {},
   "outputs": [],
   "source": [
    "class distancia():\n",
    "    def __init__(self):\n",
    "        #sumatoria - setosa\n",
    "        self.setosa_sumatoria0 = 0\n",
    "        for i in range(50):\n",
    "            self.setosa_sumatoria0 += setosa[0][i]\n",
    "        self.setosa_sumatoria0 = self.setosa_sumatoria0/50\n",
    "\n",
    "        self.setosa_sumatoria1 = 0\n",
    "        for i in range(50):\n",
    "            self.setosa_sumatoria1 += setosa[1][i]\n",
    "        self.setosa_sumatoria1 = self.setosa_sumatoria1/50\n",
    "\n",
    "        self.setosa_sumatoria2 = 0\n",
    "        for i in range(50):\n",
    "            self.setosa_sumatoria2 += setosa[2][i]\n",
    "        self.setosa_sumatoria2 = self.setosa_sumatoria2/50\n",
    "\n",
    "        self.setosa_sumatoria3 = 0\n",
    "        for i in range(50):\n",
    "            self.setosa_sumatoria3 += setosa[3][i]\n",
    "        self.setosa_sumatoria3 = self.setosa_sumatoria3/50\n",
    "        \n",
    "        #sumatoria - versicolor\n",
    "        self.versicolor_sumatoria0 = 0\n",
    "        for i in range(50,100):\n",
    "            self.versicolor_sumatoria0 += versicolor[0][i]\n",
    "        self.versicolor_sumatoria0 = self.versicolor_sumatoria0/50\n",
    "\n",
    "        self.versicolor_sumatoria1 = 0\n",
    "        for i in range(50,100):\n",
    "            self.versicolor_sumatoria1 += versicolor[1][i]\n",
    "        self.versicolor_sumatoria1 = self.versicolor_sumatoria1/50\n",
    "\n",
    "        self.versicolor_sumatoria2 = 0\n",
    "        for i in range(50,100):\n",
    "            self.versicolor_sumatoria2 += versicolor[2][i]\n",
    "        self.versicolor_sumatoria2 = self.versicolor_sumatoria2/50\n",
    "\n",
    "        self.versicolor_sumatoria3 = 0\n",
    "        for i in range(50,100):\n",
    "            self.versicolor_sumatoria3 += versicolor[3][i]\n",
    "        self.versicolor_sumatoria3 = self.versicolor_sumatoria3/50\n",
    "        \n",
    "        #sumatoria - virginia\n",
    "        self.virginia_sumatoria0 = 0\n",
    "        for i in range(100,150):\n",
    "            self.virginia_sumatoria0 += virginia[0][i]\n",
    "        self.virginia_sumatoria0 = self.virginia_sumatoria0/50\n",
    "\n",
    "        self.virginia_sumatoria1 = 0\n",
    "        for i in range(100,150):\n",
    "            self.virginia_sumatoria1 += virginia[1][i]\n",
    "        self.virginia_sumatoria1 = self.virginia_sumatoria1/50\n",
    "\n",
    "        self.virginia_sumatoria2 = 0\n",
    "        for i in range(100,150):\n",
    "            self.virginia_sumatoria2 += virginia[2][i]\n",
    "        self.virginia_sumatoria2 = self.virginia_sumatoria2/50\n",
    "\n",
    "        self.virginia_sumatoria3 = 0\n",
    "        for i in range(100,150):\n",
    "            self.virginia_sumatoria3 += virginia[3][i]\n",
    "        self.virginia_sumatoria3 = self.virginia_sumatoria3/50\n",
    "\n",
    "    def clasificador(self, punto):\n",
    "        nombre = ''\n",
    "        d1 = math.sqrt((punto[0]-self.setosa_sumatoria0)**2+(punto[1]-self.setosa_sumatoria1)**2+(punto[2]-self.setosa_sumatoria2)**2+(punto[3]-self.setosa_sumatoria3)**2)\n",
    "        d2 = math.sqrt((punto[0]-self.versicolor_sumatoria0)**2+(punto[1]-self.versicolor_sumatoria1)**2+(punto[2]-self.versicolor_sumatoria2)**2+(punto[3]-self.versicolor_sumatoria3)**2)\n",
    "        d3 = math.sqrt((punto[0]-self.virginia_sumatoria0)**2+(punto[1]-self.virginia_sumatoria1)**2+(punto[2]-self.virginia_sumatoria2)**2+(punto[3]-self.virginia_sumatoria3)**2)\n",
    "\n",
    "        if (d1 < d2):\n",
    "            if (d1 < d3):\n",
    "                nombre = 'setosa'\n",
    "            else:\n",
    "                nombre = 'virginia'\n",
    "        else:\n",
    "            if (d2 < d3):\n",
    "                nombre = 'versicolor'\n",
    "            else:\n",
    "                nombre = 'virginia'\n",
    "        \n",
    "        print(d1)\n",
    "        print(d2)\n",
    "        print(d3)\n",
    "        print(nombre)"
   ]
  },
  {
   "cell_type": "code",
   "execution_count": 123,
   "metadata": {},
   "outputs": [],
   "source": [
    "instancia = distancia()"
   ]
  },
  {
   "cell_type": "code",
   "execution_count": 124,
   "metadata": {},
   "outputs": [],
   "source": [
    "punto = [2.2, 3.5, 2.1, 0.5]"
   ]
  },
  {
   "cell_type": "code",
   "execution_count": 125,
   "metadata": {},
   "outputs": [
    {
     "name": "stdout",
     "output_type": "stream",
     "text": [
      "2.889704483160864\n",
      "4.4540399638979435\n",
      "5.811729518826558\n",
      "setosa\n"
     ]
    }
   ],
   "source": [
    "instancia.clasificador(punto)"
   ]
  }
 ],
 "metadata": {
  "kernelspec": {
   "display_name": "Python 3",
   "language": "python",
   "name": "python3"
  },
  "language_info": {
   "codemirror_mode": {
    "name": "ipython",
    "version": 3
   },
   "file_extension": ".py",
   "mimetype": "text/x-python",
   "name": "python",
   "nbconvert_exporter": "python",
   "pygments_lexer": "ipython3",
   "version": "3.6.8"
  }
 },
 "nbformat": 4,
 "nbformat_minor": 2
}
